{
 "cells": [
  {
   "cell_type": "markdown",
   "metadata": {},
   "source": [
    "# REGRESSION\n",
    "Many Engineering and Scientific problems are concerned with determining a relationship between a set of variables. Knowledge of such relationship would enable us to predict the value of the dependent variable (variable of interest) given the set of independent variables which has a relationship with it.\n"
   ]
  },
  {
   "cell_type": "markdown",
   "metadata": {},
   "source": [
    "# 1. Linear Regression"
   ]
  },
  {
   "cell_type": "markdown",
   "metadata": {},
   "source": [
    "In many situations, there is a single response variable $\\boxed{y}$, also called the dependent variable, which depends on the value of set of inputs, also called independent variables $ \\boxed{x_1, x_2, _.... _,x_n} $.\n"
   ]
  },
  {
   "cell_type": "markdown",
   "metadata": {},
   "source": [
    "\n",
    "The simplest type of relationship between the dependent variable $y$ and the input variable $ \\boxed{ \\ x_1,\\ x_2 \\ ...\\ x_n }$ is a linear relationship. \n",
    "\n",
    "That is, for some constants $ \\boxed{\\theta_0, \\ \\theta_1, \\ ... \\ \\theta_n} $"
   ]
  },
  {
   "cell_type": "markdown",
   "metadata": {},
   "source": [
    "### Liner Regression Equation\n",
    "$$\\boxed{ \\hat y = \\theta_0 + \\theta_1 x_1 +\\theta_2 x_2  ...  + \\theta_n x_n +\\epsilon }$$ \n",
    "\n",
    "Where\n",
    "* $\\hat y$ is the predicted value.  \n",
    "* $n$ is the number of features.  \n",
    "* $x_i$ is the $ i^{th} $ feature value.  \n",
    "* $\\theta_j$ is the $j^{th} $ modelparameter.  \n",
    "* $\\epsilon$ is the random error.\n",
    "\n"
   ]
  },
  {
   "cell_type": "markdown",
   "metadata": {},
   "source": [
    "### Liner Regression Model predction\n",
    "\n",
    "$$ \\boxed{\\hat y = h_\\theta (x) = \\theta \\cdot x }$$\n",
    "\n",
    "Where\n",
    "* $\\theta$ is the models parameter vector, containing the bias term $\\theta_0$ and the features weights $\\theta_1$ to $\\theta_n$\n",
    "* $x$ is the istance feature vector, containing $x_0$ to $x_n$, with $x_0 = 1$  \n",
    "* $\\theta \\cdot x $ is the dot product\n",
    "* $h_\\theta $ is the hypothesis function"
   ]
  },
  {
   "cell_type": "markdown",
   "metadata": {},
   "source": [
    "## Okay, now how do find the the parameteres i.e. $\\theta$ value\n",
    "The process ofcalculating the parameters from the data is called training the model. For this purpose we first need a measure of how well (or poorly) the model fits the training data using a performance measure. The most common performance measure for Linear Regression is **Root Mean Square Error (RMSE)**. Therefore, to train a linear regression model, we need to find the value of $\\theta$ that minimise **Mean Square Error (MSE)** than the RMSE, and it leads to same result. \n"
   ]
  },
  {
   "cell_type": "markdown",
   "metadata": {},
   "source": [
    "### Mean Square Error (MSE)\n",
    "$$ \\boxed{MSE(X,h_\\theta) = \\frac{1}{m} \\sum^m_{i=1} (\\theta^T x^i - y^i)^2} $$\n",
    "The MSE is the cost function for linear regression"
   ]
  },
  {
   "cell_type": "markdown",
   "metadata": {},
   "source": [
    "### Root Mean Square Error (RMSE)\n",
    "$$ \\boxed{RMSE(X,h_\\theta) = \\sqrt{ \\frac{1}{m} \\sum^m_{i=1} (\\theta^T x^i - y^i)^2}} $$\n",
    "The MSE is the cost function for linear regression"
   ]
  },
  {
   "cell_type": "markdown",
   "metadata": {},
   "source": [
    "### The Normal equation\n",
    "To find the value of $\\theta$ that minimises the cost function, there is a mathematical equation that gives the result directly. This is called Normal equation.\n",
    "\n",
    "\n",
    "$$ \\boxed{ \\hat\\theta =(X^T X)^{-1} X^T y }$$\n",
    "\n",
    "Where\n",
    "* $\\hat \\theta$ is the value of $\\theta$ that minimises the cost function.\n",
    "* $y$ is the vector of the target values containing $ y_1$ to $y_m$"
   ]
  },
  {
   "cell_type": "markdown",
   "metadata": {},
   "source": [
    "## Lets generate some linear looking data to test these equations"
   ]
  },
  {
   "cell_type": "code",
   "execution_count": 1,
   "metadata": {},
   "outputs": [],
   "source": [
    "import numpy as np"
   ]
  },
  {
   "cell_type": "code",
   "execution_count": 2,
   "metadata": {},
   "outputs": [],
   "source": [
    "np.random.seed(42)"
   ]
  },
  {
   "cell_type": "code",
   "execution_count": 3,
   "metadata": {},
   "outputs": [],
   "source": [
    "# take m=100 i.e. 100 instances\n",
    "X = 2 * np.random.rand(100,1) #x-axis\n",
    "y = 4 + 3 * X + np.random.rand(100,1) #y-axis \n",
    "# dependent variable on y-axis has intercept=4, slope=3, eta=np.random.rand(100,1)\n",
    "# where eta is the noise added to line"
   ]
  },
  {
   "cell_type": "code",
   "execution_count": 4,
   "metadata": {},
   "outputs": [
    {
     "data": {
      "text/plain": [
       "Text(0.5, 1.0, 'Data points')"
      ]
     },
     "execution_count": 4,
     "metadata": {},
     "output_type": "execute_result"
    }
   ],
   "source": [
    "#plot the data\n",
    "import matplotlib.pyplot as plt\n",
    "plt.plot(X,y,\"b.\")\n",
    "plt.xlabel(\"X -> indipendent values\")\n",
    "plt.ylabel(\"y -> dependent values\")\n",
    "plt.title(\"Data points\")"
   ]
  },
  {
   "cell_type": "markdown",
   "metadata": {},
   "source": [
    "#### Now lets compute $\\boxed{\\hat\\theta}$ using the normal equation"
   ]
  },
  {
   "cell_type": "code",
   "execution_count": 5,
   "metadata": {},
   "outputs": [
    {
     "name": "stdout",
     "output_type": "stream",
     "text": [
      "First 5 values of X_b\n"
     ]
    },
    {
     "data": {
      "text/plain": [
       "array([[1.        , 0.74908024],\n",
       "       [1.        , 1.90142861],\n",
       "       [1.        , 1.46398788],\n",
       "       [1.        , 1.19731697],\n",
       "       [1.        , 0.31203728]])"
      ]
     },
     "execution_count": 5,
     "metadata": {},
     "output_type": "execute_result"
    }
   ],
   "source": [
    "X_b = np.c_[np.ones((100,1)),X] # add x0 = 1 to each instance\n",
    "print (\"First 5 values of X_b\")\n",
    "X_b[:5]"
   ]
  },
  {
   "cell_type": "code",
   "execution_count": 6,
   "metadata": {},
   "outputs": [],
   "source": [
    "theta_best = np.linalg.inv(X_b.T.dot(X_b)).dot(X_b.T).dot(y)"
   ]
  },
  {
   "cell_type": "markdown",
   "metadata": {},
   "source": [
    "the above line of code finds the $\\boxed{\\hat\\theta}$ i.e. theta_best\n",
    "$$ \\hat\\theta =(X^T X)^{-1} X^T y $$"
   ]
  },
  {
   "cell_type": "code",
   "execution_count": 7,
   "metadata": {},
   "outputs": [
    {
     "data": {
      "text/plain": [
       "array([[4.51359766],\n",
       "       [2.98323418]])"
      ]
     },
     "execution_count": 7,
     "metadata": {},
     "output_type": "execute_result"
    }
   ],
   "source": [
    "theta_best"
   ]
  },
  {
   "cell_type": "markdown",
   "metadata": {},
   "source": [
    "\n",
    "$\\hat \\theta$ has 2 values.   \n",
    "$ \\theta_0 =4.49238752 $ and    \n",
    "$ \\theta_1=3.00855602$ \n",
    "\n",
    "We would have hoped for $\\theta_0=4$ and $ \\theta_1=3$"
   ]
  },
  {
   "cell_type": "markdown",
   "metadata": {},
   "source": [
    "### Now we can make predictions using $\\boxed{\\hat\\theta}$"
   ]
  },
  {
   "cell_type": "code",
   "execution_count": 8,
   "metadata": {},
   "outputs": [
    {
     "data": {
      "text/plain": [
       "array([[0],\n",
       "       [2]])"
      ]
     },
     "execution_count": 8,
     "metadata": {},
     "output_type": "execute_result"
    }
   ],
   "source": [
    "X_new = np.array([[0],[2]]) #2 new instances\n",
    "X_new"
   ]
  },
  {
   "cell_type": "code",
   "execution_count": 9,
   "metadata": {},
   "outputs": [
    {
     "data": {
      "text/plain": [
       "array([[1., 0.],\n",
       "       [1., 2.]])"
      ]
     },
     "execution_count": 9,
     "metadata": {},
     "output_type": "execute_result"
    }
   ],
   "source": [
    "X_new_b = np.c_[np.ones((2,1)),X_new] # add x0=1 to each instance\n",
    "X_new_b"
   ]
  },
  {
   "cell_type": "code",
   "execution_count": 10,
   "metadata": {},
   "outputs": [
    {
     "data": {
      "text/plain": [
       "array([[ 4.51359766],\n",
       "       [10.48006601]])"
      ]
     },
     "execution_count": 10,
     "metadata": {},
     "output_type": "execute_result"
    }
   ],
   "source": [
    "# predict using the theta_best\n",
    "y_predict = X_new_b.dot(theta_best)\n",
    "y_predict"
   ]
  },
  {
   "cell_type": "markdown",
   "metadata": {},
   "source": [
    "The above code is \n",
    "\n",
    "$\\hat y = h_\\theta(x)=\\theta^TX $\n",
    "\n",
    "which gives the predicted value for X=[0,2]\n",
    "\n"
   ]
  },
  {
   "cell_type": "markdown",
   "metadata": {},
   "source": [
    "### Lets plot the models prediction"
   ]
  },
  {
   "cell_type": "code",
   "execution_count": 11,
   "metadata": {},
   "outputs": [
    {
     "data": {
      "text/plain": [
       "Text(0.5, 1.0, ' Fitted Linear Regression line on data points ')"
      ]
     },
     "execution_count": 11,
     "metadata": {},
     "output_type": "execute_result"
    },
    {
     "data": {
      "image/png": "[encoded data removed]",
      "text/plain": [
       "<Figure size 432x288 with 1 Axes>"
      ]
     },
     "metadata": {
      "needs_background": "light"
     },
     "output_type": "display_data"
    }
   ],
   "source": [
    "plt.plot(X_new,y_predict,'r-')\n",
    "plt.plot(X,y,\"b.\")\n",
    "plt.xlabel(\"X -> indipendent values\")\n",
    "plt.ylabel(\"y -> dependent values\")\n",
    "plt.title(\" Fitted Linear Regression line on data points \")"
   ]
  },
  {
   "cell_type": "markdown",
   "metadata": {},
   "source": [
    "## Linear Regression using Scikit-Learn"
   ]
  },
  {
   "cell_type": "code",
   "execution_count": 12,
   "metadata": {},
   "outputs": [],
   "source": [
    "from sklearn.linear_model import LinearRegression #Scikit-Learn library is refered as sklearn"
   ]
  },
  {
   "cell_type": "code",
   "execution_count": 13,
   "metadata": {},
   "outputs": [],
   "source": [
    "lin_reg =LinearRegression()"
   ]
  },
  {
   "cell_type": "code",
   "execution_count": 14,
   "metadata": {},
   "outputs": [
    {
     "data": {
      "text/plain": [
       "LinearRegression(copy_X=True, fit_intercept=True, n_jobs=None,\n",
       "         normalize=False)"
      ]
     },
     "execution_count": 14,
     "metadata": {},
     "output_type": "execute_result"
    }
   ],
   "source": [
    "lin_reg.fit(X,y) # train the model with X instances on y labels"
   ]
  },
  {
   "cell_type": "code",
   "execution_count": 15,
   "metadata": {},
   "outputs": [
    {
     "name": "stdout",
     "output_type": "stream",
     "text": [
      "Linear Regression\n",
      " intercept = [4.51359766]\n",
      " coefficients = [[2.98323418]]\n"
     ]
    }
   ],
   "source": [
    "print(\"Linear Regression\\n intercept = {}\\n coefficients = {}\".format(lin_reg.intercept_,lin_reg.coef_))"
   ]
  },
  {
   "cell_type": "code",
   "execution_count": 16,
   "metadata": {},
   "outputs": [
    {
     "data": {
      "text/plain": [
       "array([[ 4.51359766],\n",
       "       [10.48006601]])"
      ]
     },
     "execution_count": 16,
     "metadata": {},
     "output_type": "execute_result"
    }
   ],
   "source": [
    "lin_reg.predict(X_new) #predict on new data using learned liner regression"
   ]
  },
  {
   "cell_type": "markdown",
   "metadata": {},
   "source": [
    "The LinearRegression class is based on least squares"
   ]
  },
  {
   "cell_type": "code",
   "execution_count": null,
   "metadata": {},
   "outputs": [],
   "source": []
  },
  {
   "cell_type": "markdown",
   "metadata": {},
   "source": [
    "# 2. Polynomial Regression"
   ]
  },
  {
   "cell_type": "markdown",
   "metadata": {},
   "source": [
    "#### What if the data is more complex than a simple straight line????????? \n",
    "\n",
    "Surprisingly, we can use a linear model to fit nonlinear data. A simple way to do this is to add powers of each featue as a new features, then train a linear model on this extended set of features.\n",
    "\n"
   ]
  },
  {
   "cell_type": "markdown",
   "metadata": {},
   "source": [
    "### Lets generate some nonlinear data, based on simple quadratic equation plus some noise"
   ]
  },
  {
   "cell_type": "code",
   "execution_count": 17,
   "metadata": {},
   "outputs": [],
   "source": [
    "m=100\n",
    "X = 6 * np.random.rand(m,1) - 3 # independent values x-axis"
   ]
  },
  {
   "cell_type": "code",
   "execution_count": 18,
   "metadata": {},
   "outputs": [],
   "source": [
    "y = 0.5 * X**2 + X + 2 + np.random.randn(m,1)"
   ]
  },
  {
   "cell_type": "markdown",
   "metadata": {},
   "source": [
    "the above code is \n",
    "\n",
    "$ y = 0.5  X^2 + X +2 +\\epsilon$\n",
    "\n",
    "i.e. qadratic equation $ ax^2 +bx +c$"
   ]
  },
  {
   "cell_type": "markdown",
   "metadata": {},
   "source": [
    "### Lets plot "
   ]
  },
  {
   "cell_type": "code",
   "execution_count": 19,
   "metadata": {},
   "outputs": [
    {
     "data": {
      "text/plain": [
       "Text(0.5, 1.0, ' Nonlinear Data ')"
      ]
     },
     "execution_count": 19,
     "metadata": {},
     "output_type": "execute_result"
    },
    {
     "data": {
      "image/png": "[encoded data removed]",
      "text/plain": [
       "<Figure size 432x288 with 1 Axes>"
      ]
     },
     "metadata": {
      "needs_background": "light"
     },
     "output_type": "display_data"
    }
   ],
   "source": [
    "plt.plot(X,y,\"b.\")\n",
    "plt.xlabel(\"X -> indipendent values\")\n",
    "plt.ylabel(\"y -> dependent values\")\n",
    "plt.title(\" Nonlinear Data \")"
   ]
  },
  {
   "cell_type": "markdown",
   "metadata": {},
   "source": [
    "Clearly a straight line will never fit this data properly."
   ]
  },
  {
   "cell_type": "markdown",
   "metadata": {},
   "source": [
    "So lets do polynomial regression on this data i.e. nothing but create new second degree features of the existing features and train model using both features.\n",
    "\n",
    "we will use **Scikit-Learn's PolynomialFeatures** class to transform our training data "
   ]
  },
  {
   "cell_type": "code",
   "execution_count": 20,
   "metadata": {},
   "outputs": [],
   "source": [
    "from sklearn.preprocessing import PolynomialFeatures"
   ]
  },
  {
   "cell_type": "code",
   "execution_count": 21,
   "metadata": {},
   "outputs": [],
   "source": [
    "poly_features = PolynomialFeatures(degree=2, include_bias=False)\n",
    "# new features of degree = 2 "
   ]
  },
  {
   "cell_type": "code",
   "execution_count": 22,
   "metadata": {},
   "outputs": [],
   "source": [
    "X_poly = poly_features.fit_transform(X) "
   ]
  },
  {
   "cell_type": "code",
   "execution_count": 23,
   "metadata": {},
   "outputs": [
    {
     "name": "stdout",
     "output_type": "stream",
     "text": [
      "old data point = [0.85218988]\n",
      " new data point =[0.85218988 0.72622759]\n"
     ]
    }
   ],
   "source": [
    "print(\"old data point = {}\\n new data point ={}\"\n",
    "      .format(X[0],X_poly[0]))"
   ]
  },
  {
   "cell_type": "markdown",
   "metadata": {},
   "source": [
    "## Now train linear regression model on new data"
   ]
  },
  {
   "cell_type": "code",
   "execution_count": 24,
   "metadata": {},
   "outputs": [
    {
     "name": "stdout",
     "output_type": "stream",
     "text": [
      " Polynomial Linear Regression\n",
      " intercept = [2.03442356]\n",
      " coefficients = [[1.04798249 0.50985053]]\n"
     ]
    }
   ],
   "source": [
    "from sklearn.linear_model import LinearRegression\n",
    "lin_reg = LinearRegression()\n",
    "lin_reg.fit(X_poly,y) # training\n",
    "print(\" Polynomial Linear Regression\\n intercept = {}\\n coefficients = {}\".format(lin_reg.intercept_,lin_reg.coef_))"
   ]
  },
  {
   "cell_type": "markdown",
   "metadata": {},
   "source": [
    "The equation obtained is  \n",
    "$\\hat y = 0.52 X^2 + 1.04 X + 1.89 $"
   ]
  },
  {
   "cell_type": "code",
   "execution_count": 25,
   "metadata": {},
   "outputs": [],
   "source": [
    "# prediction of X instances\n",
    "poly_reg_predictions = lin_reg.predict(X_poly)"
   ]
  },
  {
   "cell_type": "markdown",
   "metadata": {},
   "source": [
    "### Plot the polynomial regression line on data"
   ]
  },
  {
   "cell_type": "code",
   "execution_count": 26,
   "metadata": {},
   "outputs": [],
   "source": [
    "x_axis=[]\n",
    "y_axis=[]\n",
    "for x in range(len(X)):\n",
    "    x_axis.append(X[x][0])\n",
    "    y_axis.append(poly_reg_predictions[x][0])"
   ]
  },
  {
   "cell_type": "code",
   "execution_count": 27,
   "metadata": {},
   "outputs": [
    {
     "data": {
      "text/plain": [
       "[(-2.969630496922688, 3.418524381951772),\n",
       " (-2.944817690300222, 3.3697051336349024),\n",
       " (-2.9072603008267954, 3.2970051975847396),\n",
       " (-2.854104201411277, 3.196569284950589),\n",
       " (-2.8169985003657034, 3.128167439294386)]"
      ]
     },
     "execution_count": 27,
     "metadata": {},
     "output_type": "execute_result"
    }
   ],
   "source": [
    "# sort the coordinates  as per x axis\n",
    "sorted_x_y= sorted(zip(x_axis,y_axis))\n",
    "sorted_x_y[:5]"
   ]
  },
  {
   "cell_type": "code",
   "execution_count": 28,
   "metadata": {},
   "outputs": [],
   "source": [
    "x_axis=[]\n",
    "y_axis=[]\n",
    "for x in range(len(sorted_x_y)):\n",
    "    x_axis.append(sorted_x_y[x][0])\n",
    "    y_axis.append(sorted_x_y[x][1])"
   ]
  },
  {
   "cell_type": "code",
   "execution_count": 29,
   "metadata": {},
   "outputs": [
    {
     "data": {
      "text/plain": [
       "<Figure size 432x720 with 0 Axes>"
      ]
     },
     "execution_count": 29,
     "metadata": {},
     "output_type": "execute_result"
    },
    {
     "data": {
      "image/png": "[encoded data removed]",
      "text/plain": [
       "<Figure size 432x288 with 1 Axes>"
      ]
     },
     "metadata": {
      "needs_background": "light"
     },
     "output_type": "display_data"
    },
    {
     "data": {
      "text/plain": [
       "<Figure size 432x720 with 0 Axes>"
      ]
     },
     "metadata": {},
     "output_type": "display_data"
    }
   ],
   "source": [
    "plt.plot(X,y,\"b.\")\n",
    "plt.plot(x_axis,y_axis,\"r-\")\n",
    "plt.xlabel(\"X -> indipendent values\")\n",
    "plt.ylabel(\"y -> dependent values\")\n",
    "plt.title(\" Fitted polynomial Regression line on data points \")\n",
    "plt.figure(figsize=[6,10])"
   ]
  },
  {
   "cell_type": "markdown",
   "metadata": {},
   "source": [
    "The red colour shows the polynomial regression prediction"
   ]
  },
  {
   "cell_type": "code",
   "execution_count": null,
   "metadata": {},
   "outputs": [],
   "source": []
  },
  {
   "cell_type": "markdown",
   "metadata": {},
   "source": [
    "# Learning Curves"
   ]
  },
  {
   "cell_type": "markdown",
   "metadata": {},
   "source": [
    "If we perform high degree Polynomial Regression, the model will likely fit the training data much better."
   ]
  },
  {
   "cell_type": "markdown",
   "metadata": {},
   "source": [
    "We wil perform 2,300,500 degree polynominal regression"
   ]
  },
  {
   "cell_type": "code",
   "execution_count": 30,
   "metadata": {},
   "outputs": [],
   "source": [
    "from sklearn.linear_model import LinearRegression\n",
    "from sklearn.preprocessing import PolynomialFeatures\n",
    "lin_reg_d_1, lin_reg_d_2, lin_reg_d_300, lin_reg_d_500 = LinearRegression(),LinearRegression(),LinearRegression(),LinearRegression()\n",
    "poly_features_d_2 =PolynomialFeatures(degree=2, include_bias= False)\n",
    "poly_features_d_300 =PolynomialFeatures(degree=15, include_bias= False)\n",
    "poly_features_d_500 =PolynomialFeatures(degree=25, include_bias= False)"
   ]
  },
  {
   "cell_type": "code",
   "execution_count": 31,
   "metadata": {},
   "outputs": [],
   "source": [
    "X_d_2 = poly_features_d_2.fit_transform(X) \n",
    "X_d_300 = poly_features_d_300.fit_transform(X)\n",
    "X_d_500 = poly_features_d_500.fit_transform(X)"
   ]
  },
  {
   "cell_type": "code",
   "execution_count": 32,
   "metadata": {},
   "outputs": [
    {
     "data": {
      "text/plain": [
       "LinearRegression(copy_X=True, fit_intercept=True, n_jobs=None,\n",
       "         normalize=False)"
      ]
     },
     "execution_count": 32,
     "metadata": {},
     "output_type": "execute_result"
    }
   ],
   "source": [
    "lin_reg_d_1.fit(X,y)\n",
    "lin_reg_d_2.fit(X_d_2,y)\n",
    "lin_reg_d_300.fit(X_d_300,y)\n",
    "lin_reg_d_500.fit(X_d_500,y)\n"
   ]
  },
  {
   "cell_type": "code",
   "execution_count": 33,
   "metadata": {},
   "outputs": [],
   "source": [
    "prediction_d_1 = lin_reg_d_1.predict(X)\n",
    "prediction_d_2 = lin_reg_d_2.predict(X_d_2)\n",
    "prediction_d_300 = lin_reg_d_300.predict(X_d_300)\n",
    "prediction_d_500 = lin_reg_d_500.predict(X_d_500)"
   ]
  },
  {
   "cell_type": "markdown",
   "metadata": {},
   "source": [
    "### Plot the polynomial regression line on data"
   ]
  },
  {
   "cell_type": "code",
   "execution_count": 34,
   "metadata": {},
   "outputs": [],
   "source": [
    "x_axis=[]\n",
    "y_axis_d1, y_axis_d2, y_axis_d300, y_axis_d500 = [],[],[],[]\n",
    "for x in range(len(X)):\n",
    "    x_axis.append(X[x][0])\n",
    "    y_axis_d1.append(prediction_d_1[x][0])\n",
    "    y_axis_d2.append(prediction_d_2[x][0])\n",
    "    y_axis_d300.append(prediction_d_300[x][0])\n",
    "    y_axis_d500.append(prediction_d_500[x][0])"
   ]
  },
  {
   "cell_type": "code",
   "execution_count": 35,
   "metadata": {},
   "outputs": [
    {
     "data": {
      "text/plain": [
       "(-2.969630496922688,\n",
       " 0.6228681374699558,\n",
       " 3.418524381951772,\n",
       " 2.6654683719145362,\n",
       " 2.465586288669213)"
      ]
     },
     "execution_count": 35,
     "metadata": {},
     "output_type": "execute_result"
    }
   ],
   "source": [
    "# sort the coordinates  as per x axis\n",
    "sorted_x_y= sorted(zip(x_axis,y_axis_d1,y_axis_d2,y_axis_d300,y_axis_d500))\n",
    "sorted_x_y[0]"
   ]
  },
  {
   "cell_type": "code",
   "execution_count": 36,
   "metadata": {},
   "outputs": [],
   "source": [
    "x_axis=[]\n",
    "y_axis_d1, y_axis_d2, y_axis_d300, y_axis_d500 = [],[],[],[]\n",
    "for x in range(len(sorted_x_y)):\n",
    "    x_axis.append(sorted_x_y[x][0])\n",
    "    y_axis_d1.append(sorted_x_y[x][1])\n",
    "    y_axis_d2.append(sorted_x_y[x][2])\n",
    "    y_axis_d300.append(sorted_x_y[x][3])\n",
    "    y_axis_d500.append(sorted_x_y[x][4])"
   ]
  },
  {
   "cell_type": "code",
   "execution_count": 37,
   "metadata": {},
   "outputs": [
    {
     "data": {
      "text/plain": [
       "<Figure size 432x720 with 0 Axes>"
      ]
     },
     "execution_count": 37,
     "metadata": {},
     "output_type": "execute_result"
    },
    {
     "data": {
      "image/png": "[encoded data removed]",
      "text/plain": [
       "<Figure size 432x288 with 1 Axes>"
      ]
     },
     "metadata": {
      "needs_background": "light"
     },
     "output_type": "display_data"
    },
    {
     "data": {
      "text/plain": [
       "<Figure size 432x720 with 0 Axes>"
      ]
     },
     "metadata": {},
     "output_type": "display_data"
    }
   ],
   "source": [
    "plt.plot(X,y,\"b.\")\n",
    "plt.plot(x_axis,y_axis_d1,\"r\",label=\"1\")\n",
    "plt.plot(x_axis,y_axis_d2,\"c\",label=\"2\")\n",
    "plt.plot(x_axis,y_axis_d300,\"g\",label=\"15\",linewidth=3)\n",
    "plt.plot(x_axis,y_axis_d500,\"y\",label=\"25\", linewidth=3)\n",
    "plt.xlabel(\"X -> indipendent values\")\n",
    "plt.ylabel(\"y -> dependent values\")\n",
    "plt.title(\" Fitted polynomial Regression line on data points \")\n",
    "plt.legend()\n",
    "plt.figure(figsize=[6,10])"
   ]
  },
  {
   "cell_type": "code",
   "execution_count": 38,
   "metadata": {},
   "outputs": [],
   "source": [
    "from sklearn.metrics import mean_squared_error\n",
    "from sklearn.model_selection import train_test_split"
   ]
  },
  {
   "cell_type": "code",
   "execution_count": 39,
   "metadata": {},
   "outputs": [],
   "source": [
    "def plot_learning_curves(model,X,y):\n",
    "    X_train, X_val, y_train, y_val = train_test_split(X,y,test_size=0.2, random_state=3)\n",
    "    train_errors, val_errors = [],[]\n",
    "    for m in range(1,len(X_train)):\n",
    "        model.fit(X_train[:m],y_train[:m])\n",
    "        y_train_predict = model.predict(X_train[:m])\n",
    "        y_val_predict = model.predict(X_val)\n",
    "        train_errors.append(mean_squared_error(y_train[:m],y_train_predict))\n",
    "        val_errors.append(mean_squared_error(y_val,y_val_predict))\n",
    "    plt.plot(np.sqrt(train_errors),\"r-+\",linewidth=2,label=\"train\")\n",
    "    plt.plot(np.sqrt(val_errors),\"b-+\", linewidth=3, label=\"validation\")\n",
    "    plt.legend()\n",
    "    plt.ylabel(\"MSE\")\n",
    "    plt.xlabel(\"Number of Instances\")\n",
    "    plt.show()\n",
    "\n",
    "\n",
    "    "
   ]
  },
  {
   "cell_type": "code",
   "execution_count": 40,
   "metadata": {},
   "outputs": [
    {
     "data": {
      "image/png": "[encoded data removed]",
      "text/plain": [
       "<Figure size 432x288 with 1 Axes>"
      ]
     },
     "metadata": {
      "needs_background": "light"
     },
     "output_type": "display_data"
    }
   ],
   "source": [
    "lin_reg = LinearRegression()\n",
    "plot_learning_curves(lin_reg,X,y)"
   ]
  },
  {
   "cell_type": "code",
   "execution_count": 41,
   "metadata": {},
   "outputs": [
    {
     "data": {
      "text/plain": [
       "LinearRegression(copy_X=True, fit_intercept=True, n_jobs=None,\n",
       "         normalize=False)"
      ]
     },
     "execution_count": 41,
     "metadata": {},
     "output_type": "execute_result"
    }
   ],
   "source": [
    "lin_reg"
   ]
  }
 ],
 "metadata": {
  "kernelspec": {
   "display_name": "Python 3",
   "language": "python",
   "name": "python3"
  },
  "language_info": {
   "codemirror_mode": {
    "name": "ipython",
    "version": 3
   },
   "file_extension": ".py",
   "mimetype": "text/x-python",
   "name": "python",
   "nbconvert_exporter": "python",
   "pygments_lexer": "ipython3",
   "version": "3.6.8"
  }
 },
 "nbformat": 4,
 "nbformat_minor": 2
}
